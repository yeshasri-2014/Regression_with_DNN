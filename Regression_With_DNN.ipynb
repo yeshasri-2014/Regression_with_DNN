{
  "nbformat": 4,
  "nbformat_minor": 0,
  "metadata": {
    "colab": {
      "name": "Regression_With_DNN.ipynb",
      "provenance": [],
      "collapsed_sections": []
    },
    "kernelspec": {
      "name": "python3",
      "display_name": "Python 3"
    }
  },
  "cells": [
    {
      "cell_type": "markdown",
      "metadata": {
        "id": "hLRMV4eNJZaM",
        "colab_type": "text"
      },
      "source": [
        "## Implementation of Regression Model using tensorflow dense layers and comparing with Linear regression"
      ]
    },
    {
      "cell_type": "markdown",
      "metadata": {
        "id": "jtPgafSIsTFN",
        "colab_type": "text"
      },
      "source": [
        "#### Import the required python packages"
      ]
    },
    {
      "cell_type": "code",
      "metadata": {
        "id": "icXbi9niCR_c",
        "colab_type": "code",
        "colab": {}
      },
      "source": [
        "from matplotlib import pyplot as plt\n",
        "from matplotlib import style\n",
        "import numpy as np\n",
        "import pandas as pd\n",
        "import tensorflow as tf\n",
        "import seaborn as sns\n",
        "from sklearn.model_selection import train_test_split\n"
      ],
      "execution_count": 0,
      "outputs": []
    },
    {
      "cell_type": "markdown",
      "metadata": {
        "id": "fFLofcu3eOdi",
        "colab_type": "text"
      },
      "source": [
        "####Assumptions of Linear Regression:\n",
        "\n",
        "1. There should be linear relationship b/w dependent and independent variables.\n",
        "2. Target variable(dependent) should be normal distribution -if not transform it to normal distribution using log/exponential/square root etc. functions\n",
        "3. The independent variables should not be correlated.\n",
        "4. Error must have constant varience.\n"
      ]
    },
    {
      "cell_type": "markdown",
      "metadata": {
        "id": "5CK4nbXLsbJk",
        "colab_type": "text"
      },
      "source": [
        "#### Read the read from the GIT HUB"
      ]
    },
    {
      "cell_type": "code",
      "metadata": {
        "id": "ho2ct81p-G7I",
        "colab_type": "code",
        "colab": {}
      },
      "source": [
        "dframe = pd.read_csv(\"https://raw.githubusercontent.com/insaid2018/Term-2/master/CaseStudy/Advertising.csv\",index_col=0)\n",
        "dframe.head()"
      ],
      "execution_count": 0,
      "outputs": []
    },
    {
      "cell_type": "markdown",
      "metadata": {
        "id": "-aOJ3X8w_vRo",
        "colab_type": "text"
      },
      "source": [
        "### Data description\n",
        "#### Features\n",
        "TV - spend in dollors on TV advertisement for a sigle product (thousands of dollors)\n",
        "\n",
        "Radio - spend in dollors on Radio advertisement\n",
        "\n",
        "newspaper - spend in dollors on Newspaper advertisement\n",
        "\n",
        "#### Labels\n",
        "sales - Sales of a single product in the market (in thousands of widgets)"
      ]
    },
    {
      "cell_type": "markdown",
      "metadata": {
        "id": "jzMuySUHRkEA",
        "colab_type": "text"
      },
      "source": [
        "As we are trying to predict the value of the sales, this is a regression problem\n",
        "\n",
        "Need to do preprocessing on the data before designing a model.\n",
        "\n",
        "1.   Check for missing values and replace numeric values with mean/median and categorical values with mode.\n",
        "2.   Replace the categorical values - using label encoding or dummification.\n",
        "3.   Normalise the data to same scale if needed.\n",
        "\n"
      ]
    },
    {
      "cell_type": "code",
      "metadata": {
        "id": "R8U5ljRLAINk",
        "colab_type": "code",
        "colab": {}
      },
      "source": [
        "dframe.isna().sum()"
      ],
      "execution_count": 0,
      "outputs": []
    },
    {
      "cell_type": "code",
      "metadata": {
        "id": "6mv0k-8GA1cv",
        "colab_type": "code",
        "colab": {}
      },
      "source": [
        "dframe_describe = dframe.describe().transpose()\n",
        "dframe_describe.head()"
      ],
      "execution_count": 0,
      "outputs": []
    },
    {
      "cell_type": "code",
      "metadata": {
        "id": "1peUISPIBPmm",
        "colab_type": "code",
        "colab": {}
      },
      "source": [
        "sns.pairplot(dframe)"
      ],
      "execution_count": 0,
      "outputs": []
    },
    {
      "cell_type": "markdown",
      "metadata": {
        "id": "jaTHUlUDS2kU",
        "colab_type": "text"
      },
      "source": [
        "#### Observations from above plots:\n",
        "\n",
        "Amount spend on TV has linear relationship with the sales.\n",
        "\n",
        "Amount spend on Radio has some linearity.\n",
        "\n",
        "Amount spend on newspaper has very min linear relationship with the sales.\n",
        "\n",
        "Dependent variable(sales) is normally distributed.\n",
        "\n",
        "There is no relationship between independent variables\n",
        "\n",
        "\n",
        "\n",
        "\n",
        "\n"
      ]
    },
    {
      "cell_type": "markdown",
      "metadata": {
        "id": "KwAsqJMos4ap",
        "colab_type": "text"
      },
      "source": [
        "#### Normalise the Data to the same scale\n",
        "\n",
        "It is good practice to normalize features that use different scales and ranges. Although the model might converge without feature normalization, it makes training more difficult, and it makes the resulting model dependent on the choice of units used in the input.\n",
        "\n",
        "Note: Although we intentionally generate these statistics from only the training dataset, these statistics will also be used to normalize the test dataset. We need to do that to project the test dataset into the same distribution that the model has been trained on."
      ]
    },
    {
      "cell_type": "code",
      "metadata": {
        "id": "L-xjWDyGBqof",
        "colab_type": "code",
        "colab": {}
      },
      "source": [
        "#Test the model with normalised and without normalisation data by changing the return type\n",
        "def norm(x):\n",
        "  #return (x - dframe_describe['mean']) / dframe_describe['std']\n",
        "  return (x)\n",
        "\n",
        "normed_data = norm(dframe)\n",
        "normed_data.head()\n",
        "  "
      ],
      "execution_count": 0,
      "outputs": []
    },
    {
      "cell_type": "code",
      "metadata": {
        "id": "mEtlCvBhtdxs",
        "colab_type": "code",
        "colab": {}
      },
      "source": [
        "normed_data_describe = normed_data.describe().transpose()\n",
        "normed_data_describe.head()"
      ],
      "execution_count": 0,
      "outputs": []
    },
    {
      "cell_type": "markdown",
      "metadata": {
        "id": "q1pj4sHZtjE5",
        "colab_type": "text"
      },
      "source": [
        "#### Seperate the features and the labels from the dataset"
      ]
    },
    {
      "cell_type": "code",
      "metadata": {
        "id": "WmLPcrdqSw_B",
        "colab_type": "code",
        "colab": {}
      },
      "source": [
        "features = normed_data.iloc[:,:-1]\n",
        "labels =  normed_data['sales']"
      ],
      "execution_count": 0,
      "outputs": []
    },
    {
      "cell_type": "markdown",
      "metadata": {
        "id": "vWqZs9IOtyhn",
        "colab_type": "text"
      },
      "source": [
        "#### Split the data as test and train in 80:20 ratio"
      ]
    },
    {
      "cell_type": "code",
      "metadata": {
        "id": "NtRJUNq9QVid",
        "colab_type": "code",
        "colab": {}
      },
      "source": [
        "X_train, X_test, y_train, y_test = train_test_split(features, labels, test_size=0.2)"
      ],
      "execution_count": 0,
      "outputs": []
    },
    {
      "cell_type": "markdown",
      "metadata": {
        "id": "QBu-d4Eyt2wZ",
        "colab_type": "text"
      },
      "source": [
        "#### Build the dense layer model"
      ]
    },
    {
      "cell_type": "code",
      "metadata": {
        "id": "CgfxydCgWnAV",
        "colab_type": "code",
        "colab": {}
      },
      "source": [
        "def build_model(len_of_input):\n",
        "  model = tf.keras.Sequential([\n",
        "    tf.keras.layers.Dense(3, activation=tf.nn.relu, input_shape=[len_of_input]),\n",
        "    tf.keras.layers.Dense(3, activation=tf.nn.relu),\n",
        "    tf.keras.layers.Dense(1)\n",
        "  ])\n",
        "\n",
        "  #Learning rate 0.001\n",
        "  optimizer = tf.keras.optimizers.RMSprop(0.001)\n",
        "\n",
        "  model.compile(loss='mean_squared_error',\n",
        "                optimizer=optimizer,\n",
        "                metrics=['mean_absolute_error', 'mean_squared_error'])\n",
        "  return model"
      ],
      "execution_count": 0,
      "outputs": []
    },
    {
      "cell_type": "code",
      "metadata": {
        "id": "LXxcVguSZzf1",
        "colab_type": "code",
        "colab": {}
      },
      "source": [
        "len_of_input = len(X_train.keys())\n",
        "model = build_model(len_of_input)"
      ],
      "execution_count": 0,
      "outputs": []
    },
    {
      "cell_type": "markdown",
      "metadata": {
        "id": "yh0BLsA5uKR3",
        "colab_type": "text"
      },
      "source": [
        "#### Fit the model on features and lables"
      ]
    },
    {
      "cell_type": "code",
      "metadata": {
        "id": "WM_lyVOebg2-",
        "colab_type": "code",
        "colab": {}
      },
      "source": [
        "# Display training progress by printing a single dot for each completed epoch\n",
        "class PrintDot(tf.keras.callbacks.Callback):\n",
        "  def on_epoch_end(self, epoch, logs):\n",
        "    if epoch % 100 == 0: print('')\n",
        "    print('.', end='')\n",
        "\n",
        "\n",
        "#history = model.fit(X_train, y_train, batch_size=1, epochs=100, validation_split = 0.2,verbose = 0,callbacks=[PrintDot()])\n",
        "history = model.fit(X_train, y_train, batch_size=1, epochs=200, validation_split = 0.2,verbose = 1)"
      ],
      "execution_count": 0,
      "outputs": []
    },
    {
      "cell_type": "markdown",
      "metadata": {
        "id": "6R6uGS6qu-us",
        "colab_type": "text"
      },
      "source": [
        "#### Plot the graph between No.of Epcho's and the Loss function and also the MAE and MSE of training and validation dataset."
      ]
    },
    {
      "cell_type": "code",
      "metadata": {
        "id": "BsiZIAfkfXBk",
        "colab_type": "code",
        "colab": {}
      },
      "source": [
        "import matplotlib.pyplot as plt\n",
        "plt.xlabel(\"Epcho\")\n",
        "plt.ylabel(\"Loss\")\n",
        "plt.plot(history.history['loss'])"
      ],
      "execution_count": 0,
      "outputs": []
    },
    {
      "cell_type": "code",
      "metadata": {
        "id": "JfCcnez_fkIn",
        "colab_type": "code",
        "colab": {}
      },
      "source": [
        "def plot_history(history):\n",
        "  hist = pd.DataFrame(history.history)\n",
        "  hist['epoch'] = history.epoch\n",
        "\n",
        "  plt.figure()\n",
        "  plt.xlabel('Epoch')\n",
        "  plt.ylabel('Mean Abs Error Sales')\n",
        "  plt.plot(hist['epoch'], hist['mean_absolute_error'],\n",
        "           label='Train Error')\n",
        "  plt.plot(hist['epoch'], hist['val_mean_absolute_error'],\n",
        "           label = 'Val Error')\n",
        "  plt.ylim([0,5])\n",
        "  plt.legend()\n",
        "\n",
        "  plt.figure()\n",
        "  plt.xlabel('Epoch')\n",
        "  plt.ylabel('Mean Square Error Sales')\n",
        "  plt.plot(hist['epoch'], hist['mean_squared_error'],\n",
        "           label='Train Error')\n",
        "  plt.plot(hist['epoch'], hist['val_mean_squared_error'],\n",
        "           label = 'Val Error')\n",
        "  plt.ylim([0,20])\n",
        "  plt.legend()\n",
        "  plt.show()\n",
        "  \n",
        "plot_history(history)"
      ],
      "execution_count": 0,
      "outputs": []
    },
    {
      "cell_type": "markdown",
      "metadata": {
        "id": "l5svNuCb1Jz6",
        "colab_type": "text"
      },
      "source": [
        "#### Calculate Loss, MAE and MSE of the model"
      ]
    },
    {
      "cell_type": "code",
      "metadata": {
        "id": "aEGyXAOu0-Qm",
        "colab_type": "code",
        "colab": {}
      },
      "source": [
        "loss, mae, mse = model.evaluate(X_test, y_test, verbose=0)\n",
        "\n",
        "print(\"Testing Loss: {} MAE : {} MSE : {} \".format(loss,mae,mse))"
      ],
      "execution_count": 0,
      "outputs": []
    },
    {
      "cell_type": "markdown",
      "metadata": {
        "id": "6XJLe1dm8ggk",
        "colab_type": "text"
      },
      "source": [
        "#### Do the prediction on test data"
      ]
    },
    {
      "cell_type": "code",
      "metadata": {
        "id": "vSIEjs6k8X8y",
        "colab_type": "code",
        "colab": {}
      },
      "source": [
        "y_pred_dense = model.predict(X_test).flatten()"
      ],
      "execution_count": 0,
      "outputs": []
    },
    {
      "cell_type": "code",
      "metadata": {
        "id": "iwCwHgsi8cjV",
        "colab_type": "code",
        "colab": {}
      },
      "source": [
        "plt.scatter(y_test, y_pred_dense)\n",
        "plt.xlabel('True Values')\n",
        "plt.ylabel('Predictions')\n",
        "plt.axis('equal')\n",
        "plt.axis('square')\n",
        "plt.xlim([0,plt.xlim()[1]])\n",
        "plt.ylim([0,plt.ylim()[1]])\n",
        "_ = plt.plot([-100, 100], [-100, 100])\n",
        "plt.show()"
      ],
      "execution_count": 0,
      "outputs": []
    },
    {
      "cell_type": "markdown",
      "metadata": {
        "id": "mLI5C9Nmw8Jn",
        "colab_type": "text"
      },
      "source": [
        "#### Observation:\n",
        "\n",
        "From the above graph b/w epchos and loss we can observe that loss remaining almost constant after 60 epchos.Which means loss is no decreasing gradually with the epchos. But we are still continuing our traning from 60 to 100 epchos for negliable change in loss which is a wastage of CPU cycles.\n",
        "\n",
        "This kind of scenario has huge impact on CPU when dealing with large and complex dataset.To avoid this kind of problem we can use \"Early Stopping\" technique of tensflow, which will stop the training if the loss is not changing.\n",
        "\n",
        "\n",
        "\n"
      ]
    },
    {
      "cell_type": "markdown",
      "metadata": {
        "id": "BbkDfRFj2YoB",
        "colab_type": "text"
      },
      "source": [
        "#### Build the model with Early stopping"
      ]
    },
    {
      "cell_type": "code",
      "metadata": {
        "id": "1iHrqCEFzRtn",
        "colab_type": "code",
        "colab": {}
      },
      "source": [
        "model = build_model(len_of_input)\n",
        "\n",
        "# The patience parameter is the amount of epochs to check for improvement\n",
        "early_stop = tf.keras.callbacks.EarlyStopping(monitor='val_loss', patience=10)\n",
        "\n",
        "history = model.fit(X_train, y_train, batch_size=1, epochs=200, validation_split = 0.2,verbose = 1,callbacks=[early_stop])\n"
      ],
      "execution_count": 0,
      "outputs": []
    },
    {
      "cell_type": "code",
      "metadata": {
        "id": "9aXvRXIm0Ey0",
        "colab_type": "code",
        "colab": {}
      },
      "source": [
        "plt.xlabel(\"Epcho\")\n",
        "plt.ylabel(\"Loss\")\n",
        "plt.plot(history.history['loss'])\n",
        "\n",
        "plot_history(history)"
      ],
      "execution_count": 0,
      "outputs": []
    },
    {
      "cell_type": "code",
      "metadata": {
        "id": "hDcZa2Ilhd67",
        "colab_type": "code",
        "colab": {}
      },
      "source": [
        "loss, mae, mse = model.evaluate(X_test, y_test, verbose=0)\n",
        "\n",
        "print(\"Testing Loss: {} MAE : {} MSE : {} \".format(loss,mae,mse))"
      ],
      "execution_count": 0,
      "outputs": []
    },
    {
      "cell_type": "markdown",
      "metadata": {
        "id": "eO-Zu8Bz6erZ",
        "colab_type": "text"
      },
      "source": [
        "#### Comparsion of Model with and Without Early stopping (Below values might change for each execution)\n",
        "\n",
        "Model parameters without Early Stopping: \n",
        "Epchos : 100/100, Testing Loss: 0.01831004787236452, MAE : 0.10798074305057526, MSE : 0.018310047686100006 \n",
        "\n",
        "Model parameters with Early Stopping:\n",
        "Epchos : 38/100, Testing Loss: 0.03774606734514237, MAE : 0.15286685526371002, MSE : 0.037746064364910126 \n",
        "\n",
        "As you can observer early stopping did just 38 epchos to converge the model saving the CPU cycles with almost the same loss, MAE and MSE"
      ]
    },
    {
      "cell_type": "markdown",
      "metadata": {
        "id": "j3YqWopR2g1T",
        "colab_type": "text"
      },
      "source": [
        "#### Do the prediction on test data"
      ]
    },
    {
      "cell_type": "code",
      "metadata": {
        "id": "xEiBzUe2ca0V",
        "colab_type": "code",
        "colab": {}
      },
      "source": [
        "y_pred_dense_earlystopping = model.predict(X_test).flatten()\n"
      ],
      "execution_count": 0,
      "outputs": []
    },
    {
      "cell_type": "code",
      "metadata": {
        "id": "OfiWNlyGd13f",
        "colab_type": "code",
        "colab": {}
      },
      "source": [
        "plt.scatter(y_test, y_pred_dense_earlystopping)\n",
        "plt.xlabel('True Values')\n",
        "plt.ylabel('Predictions')\n",
        "plt.axis('equal')\n",
        "plt.axis('square')\n",
        "plt.xlim([0,plt.xlim()[1]])\n",
        "plt.ylim([0,plt.ylim()[1]])\n",
        "_ = plt.plot([-100, 100], [-100, 100])\n",
        "plt.show()"
      ],
      "execution_count": 0,
      "outputs": []
    },
    {
      "cell_type": "markdown",
      "metadata": {
        "id": "M-sCwHGkCGZs",
        "colab_type": "text"
      },
      "source": [
        "#### Prediction Using Linear Regression Model"
      ]
    },
    {
      "cell_type": "code",
      "metadata": {
        "id": "WhLJ6BEV94PS",
        "colab_type": "code",
        "colab": {}
      },
      "source": [
        "from sklearn.linear_model import LinearRegression\n",
        "regressor = LinearRegression()  \n",
        "regressor.fit(X_train, y_train)"
      ],
      "execution_count": 0,
      "outputs": []
    },
    {
      "cell_type": "code",
      "metadata": {
        "id": "PENJS_q9LVuM",
        "colab_type": "code",
        "colab": {}
      },
      "source": [
        "#To retrieve the intercept:\n",
        "print(regressor.intercept_)\n",
        "#For retrieving the slope:\n",
        "print(regressor.coef_)"
      ],
      "execution_count": 0,
      "outputs": []
    },
    {
      "cell_type": "code",
      "metadata": {
        "id": "i7L1f8Kt-BGs",
        "colab_type": "code",
        "colab": {}
      },
      "source": [
        "y_pred_linear = regressor.predict(X_test)\n"
      ],
      "execution_count": 0,
      "outputs": []
    },
    {
      "cell_type": "code",
      "metadata": {
        "id": "XcRoL9CO-JgH",
        "colab_type": "code",
        "colab": {}
      },
      "source": [
        "df = pd.DataFrame({'Actual': y_test, 'Predicted': y_pred_linear})\n",
        "df"
      ],
      "execution_count": 0,
      "outputs": []
    },
    {
      "cell_type": "code",
      "metadata": {
        "id": "8Jd4BNjXBWft",
        "colab_type": "code",
        "colab": {}
      },
      "source": [
        "from sklearn import metrics\n",
        "print (\"Linear Regression :\")\n",
        "print('Mean Absolute Error:', metrics.mean_absolute_error(y_test, y_pred_linear))  \n",
        "print('Mean Squared Error:', metrics.mean_squared_error(y_test, y_pred_linear))  \n",
        "print('Root Mean Squared Error:', np.sqrt(metrics.mean_squared_error(y_test, y_pred_linear)))\n",
        "print(\"\\n\")\n",
        "print (\"Tensorflow DNN :\")\n",
        "print('Mean Absolute Error:', metrics.mean_absolute_error(y_test, y_pred_dense))  \n",
        "print('Mean Squared Error:', metrics.mean_squared_error(y_test, y_pred_dense))  \n",
        "print('Root Mean Squared Error:', np.sqrt(metrics.mean_squared_error(y_test, y_pred_dense)))\n",
        "print(\"\\n\")\n",
        "print (\"Tensorflow DNN with Early Stopping :\")\n",
        "print('Mean Absolute Error:', metrics.mean_absolute_error(y_test, y_pred_dense_earlystopping))  \n",
        "print('Mean Squared Error:', metrics.mean_squared_error(y_test, y_pred_dense_earlystopping))  \n",
        "print('Root Mean Squared Error:', np.sqrt(metrics.mean_squared_error(y_test, y_pred_dense_earlystopping)))"
      ],
      "execution_count": 0,
      "outputs": []
    },
    {
      "cell_type": "markdown",
      "metadata": {
        "id": "TSsvAzbCNbE5",
        "colab_type": "text"
      },
      "source": [
        "#### Observation:\n",
        "\n",
        "Model with RMSE < 10% of the mean of sales value(14.0225 / 10 = 1.4) is acceptable.\n",
        "\n",
        "So from above observations we will use tensorflow dense model without early stopping model for our deployment"
      ]
    }
  ]
}